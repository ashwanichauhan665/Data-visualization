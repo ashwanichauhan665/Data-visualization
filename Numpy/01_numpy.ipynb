{
 "cells": [
  {
   "cell_type": "code",
   "execution_count": 1,
   "id": "b7a7ccae",
   "metadata": {},
   "outputs": [
    {
     "name": "stdout",
     "output_type": "stream",
     "text": [
      "Total sales: $2150\n",
      "Average sales: $307.14\n",
      "Maximum sales: $500\n"
     ]
    }
   ],
   "source": [
    "import numpy as np\n",
    "\n",
    "# Sales data for a week (in dollars)\n",
    "sales = np.array([250, 300, 150, 400, 350, 200, 500])\n",
    "\n",
    "# Total sales\n",
    "total_sales = np.sum(sales)\n",
    "print(f\"Total sales: ${total_sales}\")\n",
    "\n",
    "# Average sales\n",
    "average_sales = np.mean(sales)\n",
    "print(f\"Average sales: ${average_sales:.2f}\")\n",
    "\n",
    "# Maximum sales\n",
    "max_sales = np.max(sales)\n",
    "print(f\"Maximum sales: ${max_sales}\")\n"
   ]
  },
  {
   "cell_type": "code",
   "execution_count": null,
   "id": "5ce761f2",
   "metadata": {},
   "outputs": [],
   "source": []
  }
 ],
 "metadata": {
  "kernelspec": {
   "display_name": "Python 3 (ipykernel)",
   "language": "python",
   "name": "python3"
  },
  "language_info": {
   "codemirror_mode": {
    "name": "ipython",
    "version": 3
   },
   "file_extension": ".py",
   "mimetype": "text/x-python",
   "name": "python",
   "nbconvert_exporter": "python",
   "pygments_lexer": "ipython3",
   "version": "3.11.5"
  }
 },
 "nbformat": 4,
 "nbformat_minor": 5
}
