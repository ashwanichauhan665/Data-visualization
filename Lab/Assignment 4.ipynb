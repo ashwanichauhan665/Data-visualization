{
 "cells": [
  {
   "cell_type": "code",
   "execution_count": 5,
   "id": "446ea72d",
   "metadata": {},
   "outputs": [
    {
     "name": "stdout",
     "output_type": "stream",
     "text": [
      "Numpy Array:\n",
      "[1 2 3 4 5]\n"
     ]
    }
   ],
   "source": [
    "# Lab 1\n",
    "\n",
    "import numpy as n\n",
    "# Question.1\n",
    "#mylist=list(int(input('Enter List:')))\n",
    "#arr=n.array(mylist)\n",
    "arr=n.array([1,2,3,4,5])\n",
    "print('Numpy Array:')\n",
    "print(arr)\n"
   ]
  },
  {
   "cell_type": "code",
   "execution_count": 2,
   "id": "f205c254",
   "metadata": {},
   "outputs": [
    {
     "name": "stdout",
     "output_type": "stream",
     "text": [
      "First element:: 1\n",
      "Last element:: 5\n",
      "Array after doubling each element::\n",
      "[ 2  4  6  8 10]\n"
     ]
    }
   ],
   "source": [
    "# Question.2\n",
    "arr1=n.array([1,2,3,4,5])\n",
    "print('First element::',arr1[0])\n",
    "print('Last element::',arr1[len(arr1)-1])\n",
    "print('Array after doubling each element::')\n",
    "print(arr1*2)"
   ]
  },
  {
   "cell_type": "code",
   "execution_count": 3,
   "id": "84233d51",
   "metadata": {},
   "outputs": [
    {
     "name": "stdout",
     "output_type": "stream",
     "text": [
      "An array of 10 zeros::\n",
      "[0. 0. 0. 0. 0. 0. 0. 0. 0. 0.]\n",
      "An array of 10 ones::\n",
      "[1. 1. 1. 1. 1. 1. 1. 1. 1. 1.]\n",
      "An array of 10 fives::\n",
      "[5. 5. 5. 5. 5. 5. 5. 5. 5. 5.]\n"
     ]
    }
   ],
   "source": [
    "# Question.3\n",
    "arr2=n.zeros(10)\n",
    "print('An array of 10 zeros::')\n",
    "print(arr2)\n",
    "arr3=n.zeros(10)+1\n",
    "print('An array of 10 ones::')\n",
    "print(arr3)\n",
    "arr4=n.zeros(10)+5\n",
    "print('An array of 10 fives::')\n",
    "print(arr4)"
   ]
  },
  {
   "cell_type": "code",
   "execution_count": 4,
   "id": "1b3def5c",
   "metadata": {},
   "outputs": [
    {
     "name": "stdout",
     "output_type": "stream",
     "text": [
      "Representing an 3x3 array::\n",
      "[[ 2  3  4]\n",
      " [ 5  6  7]\n",
      " [ 8  9 10]]\n"
     ]
    }
   ],
   "source": [
    "# Question.4\n",
    "arr5=n.arange(2,11).reshape(3,3)\n",
    "print('Representing an 3x3 array::')\n",
    "print(arr5)"
   ]
  },
  {
   "cell_type": "code",
   "execution_count": null,
   "id": "8c9d3b45",
   "metadata": {},
   "outputs": [],
   "source": []
  }
 ],
 "metadata": {
  "kernelspec": {
   "display_name": "Python 3 (ipykernel)",
   "language": "python",
   "name": "python3"
  },
  "language_info": {
   "codemirror_mode": {
    "name": "ipython",
    "version": 3
   },
   "file_extension": ".py",
   "mimetype": "text/x-python",
   "name": "python",
   "nbconvert_exporter": "python",
   "pygments_lexer": "ipython3",
   "version": "3.11.5"
  }
 },
 "nbformat": 4,
 "nbformat_minor": 5
}
